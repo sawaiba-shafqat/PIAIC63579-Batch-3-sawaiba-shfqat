{
 "cells": [
  {
   "cell_type": "code",
   "execution_count": 1,
   "metadata": {},
   "outputs": [
    {
     "name": "stdout",
     "output_type": "stream",
     "text": [
      "hello\n"
     ]
    }
   ],
   "source": [
    "print(\"hello\")"
   ]
  },
  {
   "cell_type": "code",
   "execution_count": 2,
   "metadata": {},
   "outputs": [
    {
     "name": "stdout",
     "output_type": "stream",
     "text": [
      "pakistan zindabad\n"
     ]
    }
   ],
   "source": [
    "a=(\"pakistan zindabad\")\n",
    "print(a)"
   ]
  },
  {
   "cell_type": "code",
   "execution_count": 3,
   "metadata": {},
   "outputs": [
    {
     "data": {
      "text/plain": [
       "7"
      ]
     },
     "execution_count": 3,
     "metadata": {},
     "output_type": "execute_result"
    }
   ],
   "source": [
    "a=\"we are pakistan we love our country\"\n",
    "a.find(\"pakistan\")"
   ]
  },
  {
   "cell_type": "code",
   "execution_count": 4,
   "metadata": {},
   "outputs": [
    {
     "name": "stdout",
     "output_type": "stream",
     "text": [
      "       sawaiba         shafqat\n",
      "30\n",
      "       sawaiba         shafqat\n",
      "sawaiba         shafqat\n"
     ]
    }
   ],
   "source": [
    "a=\"       sawaiba         shafqat\"\n",
    "print(a)\n",
    "print(len(a))\n",
    "print(a.rstrip())\n",
    "print(a.lstrip())"
   ]
  },
  {
   "cell_type": "code",
   "execution_count": 7,
   "metadata": {},
   "outputs": [],
   "source": [
    "a=\"        sawaiba     shafqat\"\n",
    "b=\"a.split()\""
   ]
  },
  {
   "cell_type": "markdown",
   "metadata": {},
   "source": [
    "# data concatenation"
   ]
  },
  {
   "cell_type": "code",
   "execution_count": 12,
   "metadata": {},
   "outputs": [
    {
     "name": "stdout",
     "output_type": "stream",
     "text": [
      "\n",
      "PIAIC ISLAMABAD \n",
      "bahria university\n",
      "name: sawaiba \n",
      "fathers name: shafqat ali\n",
      "\n"
     ]
    }
   ],
   "source": [
    "card=\"\"\"\n",
    "PIAIC ISLAMABAD \n",
    "bahria university\n",
    "name: sawaiba \n",
    "fathers name: shafqat ali\n",
    "\"\"\"\n",
    "print(card)"
   ]
  },
  {
   "cell_type": "code",
   "execution_count": null,
   "metadata": {},
   "outputs": [],
   "source": [
    "student_name=input(\"sawaiba\")\n",
    "f_name= input(\"shafqat ali\")\n",
    "fee=1000\n",
    "card=\"\"\"\n",
    "PIAIC ISLAMABAD \n",
    "bahria university\n",
    "name: %s\n",
    "fathers name: %s\n",
    "\"\"\"\n",
    "print(card%(student_name,f_name,fee))"
   ]
  },
  {
   "cell_type": "code",
   "execution_count": null,
   "metadata": {},
   "outputs": [],
   "source": [
    "name =\"sawaiba\"\n",
    "fname =\"shafqat ali\"\n",
    "fee=5000\n",
    "f=\"\"\"\n",
    "PIAIC ISLAMABAD \n",
    "bahria university\n",
    "name:{name}\n",
    "fathers name:{fname}\n",
    "\"\"\"\n",
    "print(f)"
   ]
  },
  {
   "cell_type": "code",
   "execution_count": null,
   "metadata": {},
   "outputs": [],
   "source": [
    "name =\"sawaiba\"\n",
    "fname =\"shafqat ali\"\n",
    "fee=5000\n",
    "f=\"\"\"\n",
    "PIAIC ISLAMABAD \n",
    "bahria university\n",
    "name:{name}\n",
    "fathers name:{fname}\n",
    "\"\"\"\n",
    "print(f)"
   ]
  },
  {
   "cell_type": "code",
   "execution_count": null,
   "metadata": {},
   "outputs": [],
   "source": [
    "card=\"\"\"\n",
    "PIAIC ISLAMABAD \n",
    "bahria university\n",
    "name: sawaiba \n",
    "fathers name: shafqat ali\n",
    "\"\"\"\n",
    "print(card)"
   ]
  },
  {
   "cell_type": "code",
   "execution_count": null,
   "metadata": {},
   "outputs": [],
   "source": [
    "\"1\" + '1'"
   ]
  },
  {
   "cell_type": "code",
   "execution_count": null,
   "metadata": {},
   "outputs": [],
   "source": []
  }
 ],
 "metadata": {
  "kernelspec": {
   "display_name": "Python 3",
   "language": "python",
   "name": "python3"
  },
  "language_info": {
   "codemirror_mode": {
    "name": "ipython",
    "version": 3
   },
   "file_extension": ".py",
   "mimetype": "text/x-python",
   "name": "python",
   "nbconvert_exporter": "python",
   "pygments_lexer": "ipython3",
   "version": "3.7.4"
  }
 },
 "nbformat": 4,
 "nbformat_minor": 2
}
