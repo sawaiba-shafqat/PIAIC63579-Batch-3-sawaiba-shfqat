{
 "cells": [
  {
   "cell_type": "markdown",
   "metadata": {},
   "source": [
    "q no o1:  Which of the following terms are related to dictionaries?\n",
    "a.value\n",
    "b.key"
   ]
  },
  {
   "cell_type": "raw",
   "metadata": {},
   "source": [
    "q no o2:Just like lists, + operator is used to extend dictionaries?\n",
    "b.false"
   ]
  },
  {
   "cell_type": "code",
   "execution_count": null,
   "metadata": {},
   "outputs": [],
   "source": [
    "q no 03:To access items from a dictionary, we specify the index of that item within [] like myDict[0] ?\n",
    "    b.false"
   ]
  },
  {
   "cell_type": "raw",
   "metadata": {},
   "source": [
    "q no 04:When we use [] to access the value from a dictionary which does not exist in that dictionary….?\n",
    "d.none of above."
   ]
  },
  {
   "cell_type": "raw",
   "metadata": {},
   "source": [
    "q no 05:What does return the pop method of a dictionary?\n",
    "d.value of the key,if it exists in the dictionary"
   ]
  },
  {
   "cell_type": "raw",
   "metadata": {},
   "source": [
    "q no 6. What does return popitem method return?\n",
    "b.tupple containing pair of last item of the dictionary."
   ]
  },
  {
   "cell_type": "raw",
   "metadata": {},
   "source": [
    "q n0 07:Which of the following 2 methods can be used to iterate through the items of a dictionary?\n",
    "a.items()\n",
    "b.values()"
   ]
  },
  {
   "cell_type": "raw",
   "metadata": {},
   "source": [
    "q no 08:Which one of the following is used to enclose a dictionary?\n",
    "b.{} curly brackets"
   ]
  },
  {
   "cell_type": "raw",
   "metadata": {},
   "source": [
    "q no 09: Write Python Program add key-value pair in dictionary and check if a Given Key or Value or Both Exists in a Dictionary or Not.\n"
   ]
  },
  {
   "cell_type": "code",
   "execution_count": 6,
   "metadata": {},
   "outputs": [
    {
     "name": "stdout",
     "output_type": "stream",
     "text": [
      "enter key to be addedsawaeba\n",
      "enter the value to be added22\n",
      "updated dictionary\n",
      "{'sawaeba': '22'}\n"
     ]
    }
   ],
   "source": [
    "#code\n",
    "key=input(\"enter key to be added\")\n",
    "value=input(\"enter the value to be added\")\n",
    "c={}\n",
    "c.update({key:value})\n",
    "print(\"updated dictionary\")\n",
    "print(c)"
   ]
  },
  {
   "cell_type": "raw",
   "metadata": {},
   "source": [
    "q  no 10:Write a Python Program to Count the Frequency of Words Appearing in a String Using a Dictionary and print only the words having Even (divisible by 2) frequency.\n"
   ]
  },
  {
   "cell_type": "code",
   "execution_count": 9,
   "metadata": {},
   "outputs": [
    {
     "ename": "SyntaxError",
     "evalue": "invalid syntax (<ipython-input-9-63e99f774c56>, line 5)",
     "output_type": "error",
     "traceback": [
      "\u001b[1;36m  File \u001b[1;32m\"<ipython-input-9-63e99f774c56>\"\u001b[1;36m, line \u001b[1;32m5\u001b[0m\n\u001b[1;33m    wordfreq=[1.count() for l in l]\u001b[0m\n\u001b[1;37m                    ^\u001b[0m\n\u001b[1;31mSyntaxError\u001b[0m\u001b[1;31m:\u001b[0m invalid syntax\n"
     ]
    }
   ],
   "source": [
    "#code\n",
    "test_string=input(\"pakistan is our motherland\")\n",
    "l=[]\n",
    "l=test_string.split()\n",
    "wordfreq=[1.count() for l in l]\n",
    "if wordfreq%2==0:\n",
    "    print(dict(zip(1,wordfreq)))"
   ]
  },
  {
   "cell_type": "code",
   "execution_count": 10,
   "metadata": {},
   "outputs": [
    {
     "name": "stdout",
     "output_type": "stream",
     "text": [
      "pakistan is our motherland22\n"
     ]
    }
   ],
   "source": [
    "#code\n",
    "test_string=input(\"pakistan is our motherland\")\n",
    "l=[]\n",
    "l=test_string.split()\n",
    "for x in l:\n",
    "    freq=l.count(x)\n",
    "    if (freq%2 ==0):\n",
    "        print(zip(l,freq))"
   ]
  },
  {
   "cell_type": "raw",
   "metadata": {},
   "source": [
    "q no 11:X = [\"Feb\", Apr, Mar, May, Jun, Jul, Aug, Jan]. What will be output of following?\n",
    "    "
   ]
  },
  {
   "cell_type": "code",
   "execution_count": 14,
   "metadata": {},
   "outputs": [
    {
     "name": "stdout",
     "output_type": "stream",
     "text": [
      "['Feb', 'Apr', 'Mar']\n",
      "['Mar', 'May', 'Jun', 'Jul', 'Aug', 'jan']\n",
      "['Jun', 'Jul', 'Aug', 'jan']\n",
      "['Apr', 'May', 'Jul']\n",
      "[]\n",
      "['Apr', 'Mar', 'May', 'Jun', 'Jul', 'Aug']\n",
      "['jan', 'Jul', 'May', 'Apr']\n",
      "['Feb', 'Apr', 'Mar', 'May']\n"
     ]
    }
   ],
   "source": [
    "#code\n",
    "X = [\"Feb\", \"Apr\", \"Mar\", \"May\", \"Jun\", \"Jul\", \"Aug\", \"jan\"]\n",
    "print(X[0:3])\n",
    "print(X[2:8])\n",
    "print(X[4:9])\n",
    "print(X[1:7:2])\n",
    "print(X[-1:-7])\n",
    "print(X[-7:7])\n",
    "print(X[-1:-8:-2])\n",
    "print(X[:4])"
   ]
  },
  {
   "cell_type": "raw",
   "metadata": {},
   "source": [
    "q no 12: Remove the correct number from the list X\n"
   ]
  },
  {
   "cell_type": "code",
   "execution_count": 18,
   "metadata": {
    "scrolled": true
   },
   "outputs": [
    {
     "name": "stdout",
     "output_type": "stream",
     "text": [
      "[9, 2, 8, 4, 5]\n",
      "[2, 8, 4, 5]\n"
     ]
    }
   ],
   "source": [
    "#code\n",
    "x=[9,2,8,4,5]\n",
    "print(x)\n",
    "x.remove(9)\n",
    "print(x)"
   ]
  },
  {
   "cell_type": "raw",
   "metadata": {},
   "source": [
    "q no 13:p= 3\n",
    "q = 'hello! '\n",
    "print( q __?__ p)\n",
    "hello! hello! hello!"
   ]
  },
  {
   "cell_type": "code",
   "execution_count": 24,
   "metadata": {},
   "outputs": [
    {
     "name": "stdout",
     "output_type": "stream",
     "text": [
      "hello!hello!hello!\n"
     ]
    }
   ],
   "source": [
    "#code:\n",
    "p=3\n",
    "q='hello!'\n",
    "print(p*q)\n",
    "#1)*"
   ]
  },
  {
   "cell_type": "raw",
   "metadata": {},
   "source": [
    "q no 14: y = \"this is a random sentence\"  print (y__?__) Output: THIS IS A RANDOM SENTENCE"
   ]
  },
  {
   "cell_type": "code",
   "execution_count": 25,
   "metadata": {},
   "outputs": [
    {
     "name": "stdout",
     "output_type": "stream",
     "text": [
      "THIS IS A RANDOM SENTENCE\n"
     ]
    }
   ],
   "source": [
    "#code\n",
    "y = \"this is a random sentence\"\n",
    "print(y.upper())"
   ]
  },
  {
   "cell_type": "raw",
   "metadata": {},
   "source": [
    "1)upper()"
   ]
  },
  {
   "cell_type": "raw",
   "metadata": {},
   "source": [
    "q no 15:p = True\n",
    "q = ‘True’\n",
    "r = 2\n",
    "r = 2.0\n",
    "print(type(p))\n",
    "print(type(q))\n",
    "print(type(r))\n",
    "print(type(s))"
   ]
  },
  {
   "cell_type": "code",
   "execution_count": 29,
   "metadata": {
    "scrolled": true
   },
   "outputs": [
    {
     "name": "stdout",
     "output_type": "stream",
     "text": [
      "<class 'bool'>\n",
      "<class 'str'>\n",
      "<class 'int'>\n",
      "<class 'float'>\n"
     ]
    }
   ],
   "source": [
    "#code\n",
    "p = True\n",
    "q = 'True'\n",
    "r = 2\n",
    "s = 2.0\n",
    "print(type(p))\n",
    "print(type(q))\n",
    "print(type(r))\n",
    "print(type(s))"
   ]
  },
  {
   "cell_type": "raw",
   "metadata": {},
   "source": [
    "q no 16:What are the optional arguments to the function?\n",
    "2)p and R2"
   ]
  },
  {
   "cell_type": "raw",
   "metadata": {},
   "source": [
    "q no 17:Which command invokes method X() of the object p?\n",
    "    4)p.x()"
   ]
  },
  {
   "cell_type": "raw",
   "metadata": {},
   "source": [
    "q no 18:X=4 , Y= 2\n",
    "print(X % Y)\n",
    "print(X / Y)\n",
    "print(X // Y)\n",
    "print(Y % X)"
   ]
  },
  {
   "cell_type": "code",
   "execution_count": 31,
   "metadata": {},
   "outputs": [
    {
     "name": "stdout",
     "output_type": "stream",
     "text": [
      "0\n",
      "2.0\n",
      "2\n",
      "2\n"
     ]
    }
   ],
   "source": [
    "#code:\n",
    "X=4 \n",
    "Y= 2\n",
    "print(X % Y)\n",
    "print(X / Y)\n",
    "print(X // Y)\n",
    "print(Y % X)"
   ]
  },
  {
   "cell_type": "code",
   "execution_count": 41,
   "metadata": {},
   "outputs": [
    {
     "ename": "TypeError",
     "evalue": "'int' object is not iterable",
     "output_type": "error",
     "traceback": [
      "\u001b[1;31m---------------------------------------------------------------------------\u001b[0m",
      "\u001b[1;31mTypeError\u001b[0m                                 Traceback (most recent call last)",
      "\u001b[1;32m<ipython-input-41-68b32cda4cb0>\u001b[0m in \u001b[0;36m<module>\u001b[1;34m\u001b[0m\n\u001b[0;32m      1\u001b[0m \u001b[1;31m#q no 19:x = [[4, 1, 1], [5, 9, 0]]\u001b[0m\u001b[1;33m\u001b[0m\u001b[1;33m\u001b[0m\u001b[1;33m\u001b[0m\u001b[0m\n\u001b[0;32m      2\u001b[0m \u001b[1;32mfor\u001b[0m \u001b[0mi\u001b[0m \u001b[1;32min\u001b[0m \u001b[0mx\u001b[0m\u001b[1;33m:\u001b[0m\u001b[1;33m\u001b[0m\u001b[1;33m\u001b[0m\u001b[0m\n\u001b[1;32m----> 3\u001b[1;33m      \u001b[1;32mfor\u001b[0m \u001b[0mj\u001b[0m \u001b[1;32min\u001b[0m \u001b[0mi\u001b[0m\u001b[1;33m:\u001b[0m\u001b[1;33m\u001b[0m\u001b[1;33m\u001b[0m\u001b[0m\n\u001b[0m\u001b[0;32m      4\u001b[0m         \u001b[0mprint\u001b[0m\u001b[1;33m(\u001b[0m\u001b[0mj\u001b[0m\u001b[1;33m)\u001b[0m\u001b[1;33m\u001b[0m\u001b[1;33m\u001b[0m\u001b[0m\n",
      "\u001b[1;31mTypeError\u001b[0m: 'int' object is not iterable"
     ]
    }
   ],
   "source": [
    "#q no 19:x = [[4, 1, 1], [5, 9, 0]]\n",
    "for i in x:\n",
    "     for j in i:\n",
    "        print(j)"
   ]
  },
  {
   "cell_type": "code",
   "execution_count": 43,
   "metadata": {
    "scrolled": true
   },
   "outputs": [
    {
     "name": "stdout",
     "output_type": "stream",
     "text": [
      "4\t\n",
      "1\t\n",
      "1\t\n",
      "5\t\n",
      "9\t\n",
      "0\t\n"
     ]
    }
   ],
   "source": [
    "#code:\n",
    "x = [[4, 1, 1], [5, 9, 0]]\n",
    "for i in x:\n",
    "    for j in i:\n",
    "        print(j, end=\"\\t\")\n",
    "        print(\"\")"
   ]
  },
  {
   "cell_type": "code",
   "execution_count": 57,
   "metadata": {},
   "outputs": [
    {
     "name": "stdout",
     "output_type": "stream",
     "text": [
      "4\t\n",
      "\n",
      "1\t\n",
      "\n",
      "1\t\n",
      "\n",
      "5\t\n",
      "\n",
      "9\t\n",
      "\n",
      "0\t\n",
      "\n"
     ]
    }
   ],
   "source": [
    "#code:\n",
    "x = [[4, 1, 1], [5, 9, 0]]\n",
    "for i in x[:]:\n",
    "    for j in i:\n",
    "        print(j, end= \"\\t\")\n",
    "        print(\"\\n\")"
   ]
  },
  {
   "cell_type": "code",
   "execution_count": 56,
   "metadata": {},
   "outputs": [
    {
     "name": "stdout",
     "output_type": "stream",
     "text": [
      "4\t1\t1\t5\t9\t0\t"
     ]
    }
   ],
   "source": [
    "#code:\n",
    "x = [[4, 1, 1], [5, 9, 0]]\n",
    "for i in x[:]:\n",
    "    for j in i:\n",
    "        print(j, end= \"\\t\")"
   ]
  },
  {
   "cell_type": "raw",
   "metadata": {},
   "source": [
    "q no 20:q = [10.62, 16.14, 6.45, 17.11]\n",
    "    for __?__, z in enumerate (q) :\n",
    "print( ‘Item ‘ + str( j ) + ‘ - ‘, str ( z ))"
   ]
  },
  {
   "cell_type": "code",
   "execution_count": 68,
   "metadata": {},
   "outputs": [
    {
     "name": "stdout",
     "output_type": "stream",
     "text": [
      "Item0-10.62\n",
      "Item1-16.14\n",
      "Item2-6.45\n",
      "Item3-17.11\n"
     ]
    }
   ],
   "source": [
    "#code:\n",
    "q = [10.62, 16.14, 6.45, 17.11]\n",
    "for j,z in enumerate (q):\n",
    "    print(\"Item\" + str(j) +\"-\" +str(z))\n",
    "#3)j"
   ]
  },
  {
   "cell_type": "raw",
   "metadata": {},
   "source": [
    "q no 21:. Which of these about a dictionary is false?\n",
    "b)the keys of dictionary can be accesed using values\n",
    "d)dictionaries are mutable"
   ]
  },
  {
   "cell_type": "code",
   "execution_count": 74,
   "metadata": {},
   "outputs": [
    {
     "name": "stdout",
     "output_type": "stream",
     "text": [
      "{0: 1}\n",
      "{0: 1, 1: 1}\n",
      "{0: 1, 1: 1, 2: 1}\n"
     ]
    }
   ],
   "source": [
    "#q no 22:What is the output of the following:\n",
    "D = dict()\n",
    "for i in range (3):\n",
    "    for j in range(2):\n",
    "         D[i] = j\n",
    "    print(D)"
   ]
  },
  {
   "cell_type": "raw",
   "metadata": {},
   "source": [
    "q no 23:You are writing a function that increments player score in a soccer game\n",
    "If no value is specified for points, then point must start with 1\n",
    "If no value is specified for bonus, then bonus should be True\n",
    "01 def increment_score ( bonus , score , points ):\n",
    "To meet the first requirement line 01 must be change to\n",
    " def increment_score ( bonus , score , points = 1 ): (True or False)\n",
    "To meet the second requirement line 01 must be change to\n",
    " def increment_score ( bonus = True , score , points = 1 ): (True or False)\n",
    " Once a parameter is defined with default value, any parameter to the right must also be defined with default values\n",
    "answer\n",
    "true \n",
    "false\n",
    "true"
   ]
  },
  {
   "cell_type": "code",
   "execution_count": 77,
   "metadata": {},
   "outputs": [
    {
     "name": "stdout",
     "output_type": "stream",
     "text": [
      "11.333333333333334\n"
     ]
    }
   ],
   "source": [
    "#q no 24:\n",
    "def avg ( x , y , z = 50 ):\n",
    "    adding = x + y + z\n",
    "    avg_value = adding / 3\n",
    "    return avg_value\n",
    "y = avg ( x = 5 , y = 9 , z = 20 )\n",
    "print(y)"
   ]
  },
  {
   "cell_type": "code",
   "execution_count": 92,
   "metadata": {},
   "outputs": [
    {
     "name": "stdout",
     "output_type": "stream",
     "text": [
      "name is:nameMarks: 44.5\n"
     ]
    }
   ],
   "source": [
    "#q no 25:What will be output? Describe it with reason and logic behind. Do multiple experiments with arguments / parameters to remove error, if occurs.\n",
    "def avg ( *opt_values , name ):\n",
    "     avg_value = sum (opt_values) / len(opt_values)\n",
    "     print(\"name is:\" + \"name\" + \"Marks: \" + str(avg_value))\n",
    "avg ( 5 , 9 , 20, 34, 87, 112 ,name=\"Ali\" )"
   ]
  },
  {
   "cell_type": "code",
   "execution_count": null,
   "metadata": {},
   "outputs": [],
   "source": [
    "#44.5 will be printed\n",
    "#there wsa an error for name parameters\n",
    "#all side parameters are named as named arguments"
   ]
  },
  {
   "cell_type": "raw",
   "metadata": {},
   "source": [
    "q no 26:Final output is not required. Just take copy pencil, think and write the output of each line, write down the link between parameters and arguments. Remove one or two ** from other_info and observe the ouput.\n",
    "def display_result(winner, score, **other_info):\n",
    "print(\"The winner was \" + winner)\n",
    "print(\"The score was \" + score)\n",
    "display_result(winner=“Manchester\", score=\"1-0\", overtime =\"yes\", injuries=\"none\")"
   ]
  },
  {
   "cell_type": "code",
   "execution_count": 97,
   "metadata": {},
   "outputs": [
    {
     "name": "stdout",
     "output_type": "stream",
     "text": [
      "The winner was Manchester\n",
      "The score was 1-0\n"
     ]
    }
   ],
   "source": [
    "#answer\n",
    "def display_result(winner, score, **other_info):\n",
    "    print(\"The winner was \" + winner)\n",
    "    print(\"The score was \" + score)\n",
    "display_result(winner=\"Manchester\", score=\"1-0\", overtime =\"yes\", injuries=\"none\")"
   ]
  },
  {
   "cell_type": "code",
   "execution_count": 98,
   "metadata": {},
   "outputs": [
    {
     "ename": "SyntaxError",
     "evalue": "invalid syntax (<ipython-input-98-910271615f56>, line 2)",
     "output_type": "error",
     "traceback": [
      "\u001b[1;36m  File \u001b[1;32m\"<ipython-input-98-910271615f56>\"\u001b[1;36m, line \u001b[1;32m2\u001b[0m\n\u001b[1;33m    def display_result(winner, **other_info, score):\u001b[0m\n\u001b[1;37m                                                 ^\u001b[0m\n\u001b[1;31mSyntaxError\u001b[0m\u001b[1;31m:\u001b[0m invalid syntax\n"
     ]
    }
   ],
   "source": [
    "#q no 27:The position of parameters and arguments is re-arranged. Just think and find the logic behind output or error.\n",
    "def display_result(winner, **other_info, score):\n",
    "    print(\"The winner was \" + winner)\n",
    "    print(\"The score was \" + score)\n",
    "display_result(winner=“Manchester\", overtime =\"yes\", injuries=\"none“ , score=\"1-0“ )"
   ]
  },
  {
   "cell_type": "raw",
   "metadata": {},
   "source": [
    "answer:\n",
    "    unpacking dictionary can't be in middle"
   ]
  },
  {
   "cell_type": "code",
   "execution_count": 103,
   "metadata": {},
   "outputs": [
    {
     "name": "stdout",
     "output_type": "stream",
     "text": [
      "000123\n"
     ]
    }
   ],
   "source": [
    "#q no 28:What will be the output of the following Python expression \n",
    "X=123\n",
    "print(\"%06d\"%X)"
   ]
  },
  {
   "cell_type": "raw",
   "metadata": {},
   "source": [
    "answer\n",
    "b)000123"
   ]
  },
  {
   "cell_type": "code",
   "execution_count": 105,
   "metadata": {},
   "outputs": [
    {
     "name": "stdout",
     "output_type": "stream",
     "text": [
      "22.19\n"
     ]
    }
   ],
   "source": [
    "#q no 29:What will be the output of the following Python expression if x=22.19?\n",
    "#print(\"%5.2f\"%x)?\n",
    "x=22.19\n",
    "print(\"%5.2f\"%x)"
   ]
  },
  {
   "cell_type": "raw",
   "metadata": {},
   "source": [
    "answer\n",
    "c)22.19"
   ]
  },
  {
   "cell_type": "code",
   "execution_count": 106,
   "metadata": {},
   "outputs": [
    {
     "data": {
      "text/plain": [
       "'1.234560, 1.234560, 01.23'"
      ]
     },
     "execution_count": 106,
     "metadata": {},
     "output_type": "execute_result"
    }
   ],
   "source": [
    "#q no 30:What will be the output of the following Python code?\n",
    "'{0:f}, {1:2f}, {2:05.2f}'.format(1.23456, 1.23456, 1.23456)"
   ]
  },
  {
   "cell_type": "raw",
   "metadata": {},
   "source": [
    "q no 31:Write down the output of each line after each iterations. Do multiple experiments to change values\n",
    "    "
   ]
  },
  {
   "cell_type": "code",
   "execution_count": 116,
   "metadata": {},
   "outputs": [],
   "source": [
    "i = 1\n",
    "while False:\n",
    "    if i%2 == 0:\n",
    "        break\n",
    "    print(i)\n",
    "i += 2"
   ]
  },
  {
   "cell_type": "code",
   "execution_count": 117,
   "metadata": {},
   "outputs": [],
   "source": [
    "#the code isn't running due to false conditions in while statment"
   ]
  },
  {
   "cell_type": "code",
   "execution_count": 122,
   "metadata": {},
   "outputs": [
    {
     "name": "stdout",
     "output_type": "stream",
     "text": [
      "a "
     ]
    }
   ],
   "source": [
    "#q no 32:32. Write down the output of each line after each iterations. Do multiple experiments to change values\n",
    "x = \"abcdef\"\n",
    "i = \"a\"\n",
    "while i in x:\n",
    "    x = x[:-1]\n",
    "print(i, end = \" \")"
   ]
  },
  {
   "cell_type": "code",
   "execution_count": 123,
   "metadata": {},
   "outputs": [
    {
     "name": "stdout",
     "output_type": "stream",
     "text": [
      "a "
     ]
    }
   ],
   "source": [
    "x = \"abcde\"\n",
    "i = \"a\"\n",
    "while i in x:\n",
    "    x = x[:-1]\n",
    "print(i, end = \" \")"
   ]
  },
  {
   "cell_type": "code",
   "execution_count": 124,
   "metadata": {},
   "outputs": [
    {
     "name": "stdout",
     "output_type": "stream",
     "text": [
      "a "
     ]
    }
   ],
   "source": [
    "x = \"abcd\"\n",
    "i = \"a\"\n",
    "while i in x:\n",
    "    x = x[:-1]\n",
    "print(i, end = \" \")"
   ]
  },
  {
   "cell_type": "code",
   "execution_count": 125,
   "metadata": {},
   "outputs": [
    {
     "name": "stdout",
     "output_type": "stream",
     "text": [
      "a "
     ]
    }
   ],
   "source": [
    "x = \"abc\"\n",
    "i = \"a\"\n",
    "while i in x:\n",
    "    x = x[:-1]\n",
    "print(i, end = \" \")"
   ]
  },
  {
   "cell_type": "code",
   "execution_count": 126,
   "metadata": {},
   "outputs": [
    {
     "name": "stdout",
     "output_type": "stream",
     "text": [
      "a "
     ]
    }
   ],
   "source": [
    "x = \"a\"\n",
    "i = \"a\"\n",
    "while i in x:\n",
    "    x = x[:-1]\n",
    "print(i, end = \" \")"
   ]
  },
  {
   "cell_type": "code",
   "execution_count": 127,
   "metadata": {},
   "outputs": [
    {
     "name": "stdout",
     "output_type": "stream",
     "text": [
      "a "
     ]
    }
   ],
   "source": [
    "x = \".\"\n",
    "i = \"a\"\n",
    "while i in x:\n",
    "    x = x[:-1]\n",
    "print(i, end = \" \")"
   ]
  },
  {
   "cell_type": "code",
   "execution_count": 129,
   "metadata": {},
   "outputs": [
    {
     "name": "stdout",
     "output_type": "stream",
     "text": [
      "d\n",
      "c\n",
      "b\n",
      "a\n"
     ]
    }
   ],
   "source": [
    "#q no 33:Write down the output of each line after each iterations. Do multiple experiments to change values\n",
    "for i in ''.join(reversed(list('abcd'))):\n",
    "    print (i)"
   ]
  },
  {
   "cell_type": "code",
   "execution_count": 134,
   "metadata": {},
   "outputs": [
    {
     "name": "stdout",
     "output_type": "stream",
     "text": [
      "0\n",
      "1\n",
      "2\n",
      "3\n",
      "4\n"
     ]
    }
   ],
   "source": [
    "#q no 34:Flow of the program. Write the output of each line after every iteration of ‘i’\n",
    "for i in range(10):\n",
    "    if i == 5:\n",
    "        break\n",
    "    else:\n",
    "        print(i)\n",
    "else:\n",
    "    print(\"Here\")"
   ]
  },
  {
   "cell_type": "code",
   "execution_count": 135,
   "metadata": {},
   "outputs": [
    {
     "name": "stdout",
     "output_type": "stream",
     "text": [
      "48\n"
     ]
    }
   ],
   "source": [
    "#q no 35:\n",
    "y = 6\n",
    "z = lambda x: x * y\n",
    "print (z(8))"
   ]
  },
  {
   "cell_type": "raw",
   "metadata": {},
   "source": [
    "q no 36:Write output and give proper logic of whatever the output comes"
   ]
  },
  {
   "cell_type": "code",
   "execution_count": 136,
   "metadata": {},
   "outputs": [
    {
     "name": "stdout",
     "output_type": "stream",
     "text": [
      "0\n"
     ]
    }
   ],
   "source": [
    "i=0\n",
    "def change(i):\n",
    "    i=i+1\n",
    "    return i\n",
    "change(1)\n",
    "print(i)"
   ]
  },
  {
   "cell_type": "raw",
   "metadata": {},
   "source": [
    "#i have different scope in both local and global variable\n",
    "#assigned value to i where function is calling such as i=change(1)"
   ]
  },
  {
   "cell_type": "raw",
   "metadata": {},
   "source": [
    "# q no 37-----39:\n",
    "    doesnt exist in file"
   ]
  },
  {
   "cell_type": "raw",
   "metadata": {},
   "source": [
    "q no 40:What will be output? Define this output clearly"
   ]
  },
  {
   "cell_type": "code",
   "execution_count": 140,
   "metadata": {},
   "outputs": [
    {
     "name": "stdout",
     "output_type": "stream",
     "text": [
      "<class 'tuple'>\n",
      "(2, 3, 4)\n"
     ]
    }
   ],
   "source": [
    "def change(one, *two):\n",
    "    print(type(two))\n",
    "    print(two)\n",
    "change(1,2,3,4)\n",
    "    "
   ]
  },
  {
   "cell_type": "raw",
   "metadata": {},
   "source": [
    "#firstly it presents class name secondly its value"
   ]
  },
  {
   "cell_type": "code",
   "execution_count": 141,
   "metadata": {},
   "outputs": [
    {
     "name": "stdout",
     "output_type": "stream",
     "text": [
      "<class 'dict'>\n"
     ]
    }
   ],
   "source": [
    "#q no 41:What will be output? Define this output clearly?\n",
    "def find(a, **b):\n",
    "    print(type(b))\n",
    "find('letters',A='1',B='2')\n",
    "#it will return dict type object"
   ]
  },
  {
   "cell_type": "code",
   "execution_count": 146,
   "metadata": {},
   "outputs": [
    {
     "name": "stdout",
     "output_type": "stream",
     "text": [
      "[0]\n",
      "[0, 1]\n",
      "[0, 1, 2]\n"
     ]
    }
   ],
   "source": [
    "#q no 42:Write output and define each line’s output for each iteration of ‘i’\n",
    "def foo(i, x=[]):\n",
    "    x.append(i)\n",
    "    return x\n",
    "for i in range(3):\n",
    "    print(foo(i))\n"
   ]
  },
  {
   "cell_type": "code",
   "execution_count": 147,
   "metadata": {},
   "outputs": [
    {
     "name": "stdout",
     "output_type": "stream",
     "text": [
      "[0, 0]\n",
      "[0, 0, 1]\n",
      "[0, 0, 1, 2]\n"
     ]
    }
   ],
   "source": [
    "def foo(i, x=[0]):\n",
    "    x.append(i)\n",
    "    return x\n",
    "for i in range(3):\n",
    "    print(foo(i))"
   ]
  },
  {
   "cell_type": "code",
   "execution_count": 148,
   "metadata": {},
   "outputs": [
    {
     "name": "stdout",
     "output_type": "stream",
     "text": [
      "[0, 1, 0]\n",
      "[0, 1, 0, 1]\n",
      "[0, 1, 0, 1, 2]\n"
     ]
    }
   ],
   "source": [
    "def foo(i, x=[0,1]):\n",
    "    x.append(i)\n",
    "    return x\n",
    "for i in range(3):\n",
    "    print(foo(i))"
   ]
  },
  {
   "cell_type": "raw",
   "metadata": {},
   "source": [
    "#it means x array get inialized once and its value get store in memory"
   ]
  },
  {
   "cell_type": "raw",
   "metadata": {},
   "source": [
    "q no 43:Evaluate the following Python arithmetic expression: and write which segment will execute first? (Brackets, Exponents, Multiplication, Addition / Subtraction, Left to right rule)"
   ]
  },
  {
   "cell_type": "code",
   "execution_count": 149,
   "metadata": {},
   "outputs": [
    {
     "data": {
      "text/plain": [
       "15"
      ]
     },
     "execution_count": 149,
     "metadata": {},
     "output_type": "execute_result"
    }
   ],
   "source": [
    "\n",
    "(3* (1+2)**2 - (2**2)*3)"
   ]
  },
  {
   "cell_type": "raw",
   "metadata": {},
   "source": [
    "brackets\n",
    "exponnts\n",
    "multiplication\n",
    "addition\n",
    "subtraction\n",
    "(1+2) will be 3 - (3* (3)**2 - (2**2)*3)\n",
    "(2**2) will be 4 - (3* (3)**2 - (4)*3)\n",
    "(3)**2 will be 9 - (3* 9 - (4)*3)\n",
    "3* 9 will be 27 - (27 - (4)*3)\n",
    "(4)*3 will be 12 - (27 - 12)\n",
    "(27 - 12) will be 15 (27 - 12)\n",
    "15 will be the answer"
   ]
  },
  {
   "cell_type": "raw",
   "metadata": {},
   "source": [
    "q no 44:You are creating a function that manipulates a number. The function has the following requirements:\n",
    " A float is passed into the function\n",
    " The function must take the absolute value of the float\n",
    " Any decimal points after the integer must be removed\n",
    "C. math.floor(x)\n",
    "\n",
    "E. math.fabs(x)"
   ]
  },
  {
   "cell_type": "raw",
   "metadata": {},
   "source": [
    "q no 45: You are writing code that generates a random integer with a minimum value of 5 and a maximum value of 11.\n",
    "Which two functions should you use? Each correct answer presents a complete solution. (Choose two.)\n",
    "B. random.randint(5, 11)\n",
    "C. random.randrange(5, 12, 1)"
   ]
  },
  {
   "cell_type": "code",
   "execution_count": 151,
   "metadata": {},
   "outputs": [
    {
     "name": "stdout",
     "output_type": "stream",
     "text": [
      "10\n",
      "7\n"
     ]
    }
   ],
   "source": [
    "#code\n",
    "from random import randint, randrange\n",
    "print(randint(5, 11))\n",
    "print(randrange(5, 12, 1)) "
   ]
  },
  {
   "cell_type": "raw",
   "metadata": {},
   "source": [
    "q no 46:Write a program that receives marks from user and check the grade."
   ]
  },
  {
   "cell_type": "code",
   "execution_count": 159,
   "metadata": {},
   "outputs": [
    {
     "name": "stdout",
     "output_type": "stream",
     "text": [
      "Enter your marks: 67\n",
      "Your Grade: D\n"
     ]
    }
   ],
   "source": [
    "#code:\n",
    "user_marks = input(\"Enter your marks: \")\n",
    "if(user_marks.isnumeric() == True):\n",
    "    user_marks = int(user_marks)\n",
    "    grade = \"\"\n",
    "    if(user_marks >= 90):\n",
    "        grade = \"A\"\n",
    "    elif(user_marks >= 80 and user_marks < 90):\n",
    "        grade = \"B\"\n",
    "    elif(user_marks >= 70 and user_marks < 80):\n",
    "        grade = \"C\"\n",
    "    elif(user_marks > 60 and user_marks < 70 ):\n",
    "        grade = \"D\"\n",
    "    elif(user_marks <= 60):\n",
    "        grade = \"E\"\n",
    "    print(f\"Your Grade: {grade}\")\n"
   ]
  },
  {
   "cell_type": "code",
   "execution_count": null,
   "metadata": {},
   "outputs": [],
   "source": []
  }
 ],
 "metadata": {
  "kernelspec": {
   "display_name": "Python 3",
   "language": "python",
   "name": "python3"
  },
  "language_info": {
   "codemirror_mode": {
    "name": "ipython",
    "version": 3
   },
   "file_extension": ".py",
   "mimetype": "text/x-python",
   "name": "python",
   "nbconvert_exporter": "python",
   "pygments_lexer": "ipython3",
   "version": "3.7.4"
  }
 },
 "nbformat": 4,
 "nbformat_minor": 2
}
