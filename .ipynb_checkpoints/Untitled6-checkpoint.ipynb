{
 "cells": [
  {
   "cell_type": "code",
   "execution_count": null,
   "metadata": {},
   "outputs": [],
   "source": [
    "user=input(\"username\")\n",
    "password=input(\"password\")\n",
    "user==\"A\" or user==\"B\" or user==\"C\" and password =='123'"
   ]
  },
  {
   "cell_type": "markdown",
   "metadata": {},
   "source": [
    "# BITWISE OPERATOR"
   ]
  },
  {
   "cell_type": "raw",
   "metadata": {},
   "source": [
    "8, 7, 6, 5, 4, 3, 2, 1, 0\n",
    "2, 2, 2, 2, 2, 2, 2, 2, 2\n",
    "=========================\n",
    "256,128,64,32,16,8,4,2,1\n",
    " RIGHT\n",
    "    110\n",
    "    0=0\n",
    "    1=2\n",
    "    1=4\n",
    "    ===\n",
    "      6\n",
    "        11100=28\n",
    "        11101=29\n",
    "      \n",
    "        "
   ]
  },
  {
   "cell_type": "raw",
   "metadata": {},
   "source": [
    "11100=28\n",
    "11101=29"
   ]
  },
  {
   "cell_type": "code",
   "execution_count": null,
   "metadata": {},
   "outputs": [],
   "source": [
    "11100\n",
    "11101\n",
    "-----\n",
    "11100 = 28"
   ]
  },
  {
   "cell_type": "code",
   "execution_count": null,
   "metadata": {},
   "outputs": [],
   "source": [
    "29 & 28 "
   ]
  },
  {
   "cell_type": "code",
   "execution_count": null,
   "metadata": {},
   "outputs": [],
   "source": [
    "29 & 28 "
   ]
  },
  {
   "cell_type": "code",
   "execution_count": null,
   "metadata": {},
   "outputs": [],
   "source": [
    "5+3"
   ]
  },
  {
   "cell_type": "code",
   "execution_count": null,
   "metadata": {},
   "outputs": [],
   "source": [
    "2=2"
   ]
  },
  {
   "cell_type": "code",
   "execution_count": null,
   "metadata": {},
   "outputs": [],
   "source": []
  }
 ],
 "metadata": {
  "kernelspec": {
   "display_name": "Python 3",
   "language": "python",
   "name": "python3"
  },
  "language_info": {
   "codemirror_mode": {
    "name": "ipython",
    "version": 3
   },
   "file_extension": ".py",
   "mimetype": "text/x-python",
   "name": "python",
   "nbconvert_exporter": "python",
   "pygments_lexer": "ipython3",
   "version": "3.7.4"
  }
 },
 "nbformat": 4,
 "nbformat_minor": 2
}
